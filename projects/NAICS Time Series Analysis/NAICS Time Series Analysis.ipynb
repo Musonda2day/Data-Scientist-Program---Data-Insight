{
 "cells": [
  {
   "cell_type": "markdown",
   "id": "c7baf715",
   "metadata": {},
   "source": [
    "# NAICS Time Series Data Analysis\n",
    "\n",
    "## Introduction\n",
    "\n",
    "In this notebook we demonstrate data preparation techniques and analysis using the Employment data classified by industry using the North American Industry Classification System (NAICS). The following steps have been employed in the analysis:\n",
    "\n",
    "- Definition of functions for transforming and cleaning of the data. The following are the functions that have been defined:\n",
    "\n",
    "    - Function for Reading .csv Files. The function takes in a list of .csv file names and the path to the folder containing the files. it then reads all the files and stores them as Pandas Dataframes in a list.\n",
    "    \n",
    "    - Function for Cleaning the Data. The function takes in a dataframe and performs data cleaning and transformation.\n",
    "    \n",
    "    - Function for Filtering All Industry Data. The function takes in a dataframe and returns a dictionary that filters data for each industry. The keys are the industry names and the values are the filtered dataframe for that industry.\n",
    "    \n",
    "- Loading the Datasets. \n",
    "     - We first start by loading the mapping .csv file for mapping the NAICS numbers to the Industry Details.\n",
    "     \n",
    "     - We then load the employement files into a list of dataframes using the defined function for loading .csv files.\n",
    "     \n",
    "\n",
    "- Data Preparation. The following are the data preparation processes performed:\n",
    "\n",
    "    - Cleaning each of the dataframe in the list of dataframes. This ensures that the industries in each NAICS column are represented by the Industry Number and not name\n",
    "    \n",
    "    - Merging the Cleaned Data. The dataframes in the list that have been cleaned are merged into one dataframe.\n",
    "    \n",
    "    - Data mapping. The mapping dataframe is transformed into a dictionary which is then used to map the Industry Names to the NAICS numbers in the merged dataframe for employment. \n",
    "    - Grouping the Merged dataframe. After mapping the dataframe, the dataframe is sorted and grouped by year, month and industry with employment values aggregated by summing\n",
    "    \n",
    "- Exploratory Data Analysis. We analyse the data by considering the following explorations:\n",
    "\n",
    "    - Descriptive Statistics and Distribution\n",
    "    \n",
    "    - Evolution of Employment in Construction over Time\n",
    "    \n",
    "    - Relationship of Employment in Construction and in Architectural, engineering and related services\n",
    "    \n",
    "    - Share of Employment by Industry for Top 10 Industries\n",
    "    \n",
    "    - Average Employment Levels per Month\n",
    "\n"
   ]
  },
  {
   "cell_type": "markdown",
   "id": "d2eec4cd",
   "metadata": {},
   "source": [
    "## 1. Import Libraries"
   ]
  },
  {
   "cell_type": "code",
   "execution_count": 1,
   "id": "59d6600a",
   "metadata": {},
   "outputs": [],
   "source": [
    "import pandas as pd\n",
    "import numpy as np\n",
    "import matplotlib.pyplot as plt\n",
    "import seaborn as sns\n",
    "\n",
    "sns.set_style(\"whitegrid\")"
   ]
  },
  {
   "cell_type": "markdown",
   "id": "4c457045",
   "metadata": {},
   "source": [
    "## 2. Define Functions"
   ]
  },
  {
   "cell_type": "markdown",
   "id": "e97662d5",
   "metadata": {},
   "source": [
    "### 2.1 Function for Reading csv files "
   ]
  },
  {
   "cell_type": "code",
   "execution_count": 2,
   "id": "ffd30a5d",
   "metadata": {},
   "outputs": [],
   "source": [
    "def read_files(names_list, folder_path):\n",
    "    \"\"\"\n",
    "    Takes in a list of .csv file names and the path to the files.\n",
    "    It reads the files into dataframes and returns a list of dataframes\n",
    "    \n",
    "    parameters: \n",
    "    a list of .csv files names\n",
    "    path to files folder\n",
    "            \n",
    "    returns: \n",
    "    a list of dataframes\n",
    "    \n",
    "    \"\"\"\n",
    "    df_list = []\n",
    "    for i in names_list:\n",
    "        file_path = folder_path + i + \".csv\"\n",
    "        df = pd.read_csv(file_path)\n",
    "        df_list.append(df)\n",
    "        \n",
    "    return df_list"
   ]
  },
  {
   "cell_type": "markdown",
   "id": "b28dd1dc",
   "metadata": {},
   "source": [
    "### 2.2 Function for Cleaning the Data"
   ]
  },
  {
   "cell_type": "code",
   "execution_count": 3,
   "id": "a66729a3",
   "metadata": {},
   "outputs": [],
   "source": [
    "def cleaning(df):\n",
    "    \"\"\"\n",
    "    Takes in a dataframe and performs data cleaning \n",
    "    Returns the NAICS numbers as intergers\n",
    "    \n",
    "    parameters:\n",
    "    dataframe\n",
    "    \n",
    "    returns:\n",
    "    cleaned dataframe with int64 NAICS column\n",
    "    \n",
    "    \"\"\"\n",
    "    #check if \"NAICS\" column is 'Object' type\n",
    "    if df['NAICS'].dtype == 'O':\n",
    "        # Extract the values in square brackets if they exist\n",
    "        df[\"NAICS_NO\"] = df['NAICS'].str.extract(r'\\[(.*?)]', expand = False)\n",
    "\n",
    "        #drop rows with NaN values in the 'NAics_NO' COLUMN\n",
    "        df.dropna(subset=['NAICS_NO'], inplace=True)\n",
    "        \n",
    "        #Split values with dashes and return the first value\n",
    "        df['Splitted_Values'] = df['NAICS_NO'].str.split(\"-\", expand=False)\n",
    "        df['Left_Value'] = df['Splitted_Values'].str.get(0)\n",
    "        df['Left_Value'].fillna(df['NAICS_NO'], inplace=True)\n",
    "        \n",
    "        #convert \"Left_Value\" to \"int64\" type\n",
    "        df['Left_Value'] = df['Left_Value'].astype(\"int64\")\n",
    "        \n",
    "        #filter to return the original columns and filtered Left_Value Column\n",
    "        df = df[[\"SYEAR\", \"SMTH\", 'Left_Value', \"_EMPLOYMENT_\"]]\n",
    "           \n",
    "    else:\n",
    "        df = df\n",
    "    \n",
    "    #rename columns\n",
    "    df.columns = [\"SYEAR\", \"SMTH\", 'NAICS', \"_EMPLOYMENT_\"]\n",
    "        \n",
    "    return df"
   ]
  },
  {
   "cell_type": "markdown",
   "id": "d6739fb9",
   "metadata": {},
   "source": [
    "### 2.3 Function for Filtering All Industry Data"
   ]
  },
  {
   "cell_type": "code",
   "execution_count": 4,
   "id": "251369c0",
   "metadata": {},
   "outputs": [],
   "source": [
    "def industry_data(grouped_df):\n",
    "    \"\"\"\n",
    "    Takes in a dataframe and returns a dictionary with:\n",
    "    key: Industry Name\n",
    "    value: Filtered Dataframe of the Industry\n",
    "    \n",
    "    parameters:\n",
    "    dataframe\n",
    "    \n",
    "    returns:\n",
    "    dictionary of Industry name: Filtered dataframe for the industry\n",
    "    \n",
    "    \"\"\"\n",
    "    data = {}\n",
    "    for i in list(grouped_df['LMO_Detailed_Industry']):\n",
    "        key = i\n",
    "        value = grouped_df[grouped_df['LMO_Detailed_Industry']==i]\n",
    "        data[key] = value\n",
    "        \n",
    "    return data  "
   ]
  },
  {
   "cell_type": "markdown",
   "id": "5dc6fe71",
   "metadata": {},
   "source": [
    "## 3. Load the Datasets"
   ]
  },
  {
   "cell_type": "markdown",
   "id": "08aa28f3",
   "metadata": {},
   "source": [
    "### 3.1 Load the RTRA Data Mapping File"
   ]
  },
  {
   "cell_type": "code",
   "execution_count": 5,
   "id": "5e3a81ef",
   "metadata": {},
   "outputs": [
    {
     "data": {
      "text/html": [
       "<div>\n",
       "<style scoped>\n",
       "    .dataframe tbody tr th:only-of-type {\n",
       "        vertical-align: middle;\n",
       "    }\n",
       "\n",
       "    .dataframe tbody tr th {\n",
       "        vertical-align: top;\n",
       "    }\n",
       "\n",
       "    .dataframe thead th {\n",
       "        text-align: right;\n",
       "    }\n",
       "</style>\n",
       "<table border=\"1\" class=\"dataframe\">\n",
       "  <thead>\n",
       "    <tr style=\"text-align: right;\">\n",
       "      <th></th>\n",
       "      <th>LMO_Detailed_Industry</th>\n",
       "      <th>NAICS</th>\n",
       "    </tr>\n",
       "  </thead>\n",
       "  <tbody>\n",
       "    <tr>\n",
       "      <th>0</th>\n",
       "      <td>Farms</td>\n",
       "      <td>111 &amp; 112</td>\n",
       "    </tr>\n",
       "    <tr>\n",
       "      <th>1</th>\n",
       "      <td>Fishing, hunting and trapping</td>\n",
       "      <td>114</td>\n",
       "    </tr>\n",
       "    <tr>\n",
       "      <th>2</th>\n",
       "      <td>Forestry and logging</td>\n",
       "      <td>113</td>\n",
       "    </tr>\n",
       "    <tr>\n",
       "      <th>3</th>\n",
       "      <td>Support activities for agriculture and forestry</td>\n",
       "      <td>115</td>\n",
       "    </tr>\n",
       "    <tr>\n",
       "      <th>4</th>\n",
       "      <td>Oil and gas extraction</td>\n",
       "      <td>211</td>\n",
       "    </tr>\n",
       "  </tbody>\n",
       "</table>\n",
       "</div>"
      ],
      "text/plain": [
       "                             LMO_Detailed_Industry      NAICS\n",
       "0                                            Farms  111 & 112\n",
       "1                    Fishing, hunting and trapping        114\n",
       "2                             Forestry and logging        113\n",
       "3  Support activities for agriculture and forestry        115\n",
       "4                           Oil and gas extraction        211"
      ]
     },
     "execution_count": 5,
     "metadata": {},
     "output_type": "execute_result"
    }
   ],
   "source": [
    "# load csv file for mapping the NAICS numbers to the Industry Details\n",
    "mapping_df = pd.read_excel(\"data/LMO_Detailed_Industries_by_NAICS.xlsx\")\n",
    "\n",
    "mapping_df.head()"
   ]
  },
  {
   "cell_type": "markdown",
   "id": "c9ab4ed6",
   "metadata": {},
   "source": [
    "### 3.2 Load the RTRA Employment Data Files"
   ]
  },
  {
   "cell_type": "code",
   "execution_count": 6,
   "id": "739de22c",
   "metadata": {},
   "outputs": [
    {
     "data": {
      "text/html": [
       "<div>\n",
       "<style scoped>\n",
       "    .dataframe tbody tr th:only-of-type {\n",
       "        vertical-align: middle;\n",
       "    }\n",
       "\n",
       "    .dataframe tbody tr th {\n",
       "        vertical-align: top;\n",
       "    }\n",
       "\n",
       "    .dataframe thead th {\n",
       "        text-align: right;\n",
       "    }\n",
       "</style>\n",
       "<table border=\"1\" class=\"dataframe\">\n",
       "  <thead>\n",
       "    <tr style=\"text-align: right;\">\n",
       "      <th></th>\n",
       "      <th>SYEAR</th>\n",
       "      <th>SMTH</th>\n",
       "      <th>NAICS</th>\n",
       "      <th>_EMPLOYMENT_</th>\n",
       "    </tr>\n",
       "  </thead>\n",
       "  <tbody>\n",
       "    <tr>\n",
       "      <th>0</th>\n",
       "      <td>2000</td>\n",
       "      <td>1</td>\n",
       "      <td>Accommodation and food services [72]</td>\n",
       "      <td>148000</td>\n",
       "    </tr>\n",
       "    <tr>\n",
       "      <th>1</th>\n",
       "      <td>2000</td>\n",
       "      <td>1</td>\n",
       "      <td>Administrative and support, waste management a...</td>\n",
       "      <td>59250</td>\n",
       "    </tr>\n",
       "    <tr>\n",
       "      <th>2</th>\n",
       "      <td>2000</td>\n",
       "      <td>1</td>\n",
       "      <td>Agriculture, forestry, fishing and hunting [11]</td>\n",
       "      <td>61750</td>\n",
       "    </tr>\n",
       "    <tr>\n",
       "      <th>3</th>\n",
       "      <td>2000</td>\n",
       "      <td>1</td>\n",
       "      <td>Arts, entertainment and recreation [71]</td>\n",
       "      <td>39500</td>\n",
       "    </tr>\n",
       "    <tr>\n",
       "      <th>4</th>\n",
       "      <td>2000</td>\n",
       "      <td>1</td>\n",
       "      <td>Construction [23]</td>\n",
       "      <td>106250</td>\n",
       "    </tr>\n",
       "  </tbody>\n",
       "</table>\n",
       "</div>"
      ],
      "text/plain": [
       "   SYEAR  SMTH                                              NAICS  \\\n",
       "0   2000     1               Accommodation and food services [72]   \n",
       "1   2000     1  Administrative and support, waste management a...   \n",
       "2   2000     1    Agriculture, forestry, fishing and hunting [11]   \n",
       "3   2000     1            Arts, entertainment and recreation [71]   \n",
       "4   2000     1                                  Construction [23]   \n",
       "\n",
       "   _EMPLOYMENT_  \n",
       "0        148000  \n",
       "1         59250  \n",
       "2         61750  \n",
       "3         39500  \n",
       "4        106250  "
      ]
     },
     "execution_count": 6,
     "metadata": {},
     "output_type": "execute_result"
    }
   ],
   "source": [
    "# a list of the file names\n",
    "names_list = [\"RTRA_Employ_2NAICS_00_05\", \"RTRA_Employ_2NAICS_06_10\", \"RTRA_Employ_2NAICS_11_15\",\n",
    "             \"RTRA_Employ_2NAICS_16_20\", \"RTRA_Employ_2NAICS_97_99\", \"RTRA_Employ_3NAICS_00_05\",\n",
    "             \"RTRA_Employ_3NAICS_06_10\", \"RTRA_Employ_3NAICS_11_15\", \"RTRA_Employ_3NAICS_11_15\",\n",
    "             \"RTRA_Employ_3NAICS_97_99\", \"RTRA_Employ_4NAICS_00_05\", \"RTRA_Employ_4NAICS_06_10\",\n",
    "             \"RTRA_Employ_4NAICS_11_15\", \"RTRA_Employ_4NAICS_16_20\", \"RTRA_Employ_4NAICS_97_99\"]\n",
    "\n",
    "# read the csv files using the read_files function\n",
    "data_list = read_files(names_list, \"data/\")\n",
    "\n",
    "# view the head of the first loaded dataframe\n",
    "data_list[0].head()"
   ]
  },
  {
   "cell_type": "markdown",
   "id": "e4b5bae9",
   "metadata": {},
   "source": [
    "## 4. Data Preparation"
   ]
  },
  {
   "cell_type": "markdown",
   "id": "ceafed46",
   "metadata": {},
   "source": [
    "### 4.1 Cleaning the data in the Dataframe List"
   ]
  },
  {
   "cell_type": "code",
   "execution_count": 7,
   "id": "a360bc0a",
   "metadata": {},
   "outputs": [
    {
     "data": {
      "text/html": [
       "<div>\n",
       "<style scoped>\n",
       "    .dataframe tbody tr th:only-of-type {\n",
       "        vertical-align: middle;\n",
       "    }\n",
       "\n",
       "    .dataframe tbody tr th {\n",
       "        vertical-align: top;\n",
       "    }\n",
       "\n",
       "    .dataframe thead th {\n",
       "        text-align: right;\n",
       "    }\n",
       "</style>\n",
       "<table border=\"1\" class=\"dataframe\">\n",
       "  <thead>\n",
       "    <tr style=\"text-align: right;\">\n",
       "      <th></th>\n",
       "      <th>SYEAR</th>\n",
       "      <th>SMTH</th>\n",
       "      <th>NAICS</th>\n",
       "      <th>_EMPLOYMENT_</th>\n",
       "    </tr>\n",
       "  </thead>\n",
       "  <tbody>\n",
       "    <tr>\n",
       "      <th>0</th>\n",
       "      <td>2000</td>\n",
       "      <td>1</td>\n",
       "      <td>72</td>\n",
       "      <td>148000</td>\n",
       "    </tr>\n",
       "    <tr>\n",
       "      <th>1</th>\n",
       "      <td>2000</td>\n",
       "      <td>1</td>\n",
       "      <td>56</td>\n",
       "      <td>59250</td>\n",
       "    </tr>\n",
       "    <tr>\n",
       "      <th>2</th>\n",
       "      <td>2000</td>\n",
       "      <td>1</td>\n",
       "      <td>11</td>\n",
       "      <td>61750</td>\n",
       "    </tr>\n",
       "    <tr>\n",
       "      <th>3</th>\n",
       "      <td>2000</td>\n",
       "      <td>1</td>\n",
       "      <td>71</td>\n",
       "      <td>39500</td>\n",
       "    </tr>\n",
       "    <tr>\n",
       "      <th>4</th>\n",
       "      <td>2000</td>\n",
       "      <td>1</td>\n",
       "      <td>23</td>\n",
       "      <td>106250</td>\n",
       "    </tr>\n",
       "  </tbody>\n",
       "</table>\n",
       "</div>"
      ],
      "text/plain": [
       "   SYEAR  SMTH  NAICS  _EMPLOYMENT_\n",
       "0   2000     1     72        148000\n",
       "1   2000     1     56         59250\n",
       "2   2000     1     11         61750\n",
       "3   2000     1     71         39500\n",
       "4   2000     1     23        106250"
      ]
     },
     "execution_count": 7,
     "metadata": {},
     "output_type": "execute_result"
    }
   ],
   "source": [
    "# create a list of cleaned dataframes using the cleaning function\n",
    "cleaned_df_list = [cleaning(data_list[i]) for i in range(len(data_list))]\n",
    "\n",
    "# view the head of the first cleaned dataframe\n",
    "cleaned_df_list[0].head()"
   ]
  },
  {
   "cell_type": "markdown",
   "id": "dee6cdd9",
   "metadata": {},
   "source": [
    "### 4.2 Merging the Cleaned Dataframes"
   ]
  },
  {
   "cell_type": "code",
   "execution_count": 8,
   "id": "6c552b1c",
   "metadata": {},
   "outputs": [
    {
     "data": {
      "text/html": [
       "<div>\n",
       "<style scoped>\n",
       "    .dataframe tbody tr th:only-of-type {\n",
       "        vertical-align: middle;\n",
       "    }\n",
       "\n",
       "    .dataframe tbody tr th {\n",
       "        vertical-align: top;\n",
       "    }\n",
       "\n",
       "    .dataframe thead th {\n",
       "        text-align: right;\n",
       "    }\n",
       "</style>\n",
       "<table border=\"1\" class=\"dataframe\">\n",
       "  <thead>\n",
       "    <tr style=\"text-align: right;\">\n",
       "      <th></th>\n",
       "      <th>SYEAR</th>\n",
       "      <th>SMTH</th>\n",
       "      <th>NAICS</th>\n",
       "      <th>_EMPLOYMENT_</th>\n",
       "    </tr>\n",
       "  </thead>\n",
       "  <tbody>\n",
       "    <tr>\n",
       "      <th>0</th>\n",
       "      <td>2000</td>\n",
       "      <td>1</td>\n",
       "      <td>72</td>\n",
       "      <td>148000</td>\n",
       "    </tr>\n",
       "    <tr>\n",
       "      <th>1</th>\n",
       "      <td>2000</td>\n",
       "      <td>1</td>\n",
       "      <td>56</td>\n",
       "      <td>59250</td>\n",
       "    </tr>\n",
       "    <tr>\n",
       "      <th>2</th>\n",
       "      <td>2000</td>\n",
       "      <td>1</td>\n",
       "      <td>11</td>\n",
       "      <td>61750</td>\n",
       "    </tr>\n",
       "    <tr>\n",
       "      <th>3</th>\n",
       "      <td>2000</td>\n",
       "      <td>1</td>\n",
       "      <td>71</td>\n",
       "      <td>39500</td>\n",
       "    </tr>\n",
       "    <tr>\n",
       "      <th>4</th>\n",
       "      <td>2000</td>\n",
       "      <td>1</td>\n",
       "      <td>23</td>\n",
       "      <td>106250</td>\n",
       "    </tr>\n",
       "  </tbody>\n",
       "</table>\n",
       "</div>"
      ],
      "text/plain": [
       "   SYEAR  SMTH  NAICS  _EMPLOYMENT_\n",
       "0   2000     1     72        148000\n",
       "1   2000     1     56         59250\n",
       "2   2000     1     11         61750\n",
       "3   2000     1     71         39500\n",
       "4   2000     1     23        106250"
      ]
     },
     "metadata": {},
     "output_type": "display_data"
    },
    {
     "data": {
      "text/plain": [
       "(119880, 4)"
      ]
     },
     "metadata": {},
     "output_type": "display_data"
    }
   ],
   "source": [
    "# Concatenate the cleaned dataframes in the list\n",
    "merged_df = pd.concat(cleaned_df_list)\n",
    "\n",
    "#display the merged_df head and shape\n",
    "display(merged_df.head())\n",
    "display(merged_df.shape)"
   ]
  },
  {
   "cell_type": "markdown",
   "id": "507f17ef",
   "metadata": {},
   "source": [
    "### 4.3 Data Mapping"
   ]
  },
  {
   "cell_type": "markdown",
   "id": "2976c523",
   "metadata": {},
   "source": [
    "#### 4.3.1 Create a Mapping Dictionary from the Mapping Dataframe"
   ]
  },
  {
   "cell_type": "code",
   "execution_count": 9,
   "id": "21274d25",
   "metadata": {},
   "outputs": [
    {
     "data": {
      "text/html": [
       "<div>\n",
       "<style scoped>\n",
       "    .dataframe tbody tr th:only-of-type {\n",
       "        vertical-align: middle;\n",
       "    }\n",
       "\n",
       "    .dataframe tbody tr th {\n",
       "        vertical-align: top;\n",
       "    }\n",
       "\n",
       "    .dataframe thead th {\n",
       "        text-align: right;\n",
       "    }\n",
       "</style>\n",
       "<table border=\"1\" class=\"dataframe\">\n",
       "  <thead>\n",
       "    <tr style=\"text-align: right;\">\n",
       "      <th></th>\n",
       "      <th>LMO_Detailed_Industry</th>\n",
       "      <th>NAICS</th>\n",
       "    </tr>\n",
       "  </thead>\n",
       "  <tbody>\n",
       "    <tr>\n",
       "      <th>0</th>\n",
       "      <td>Farms</td>\n",
       "      <td>[111 ,  112]</td>\n",
       "    </tr>\n",
       "    <tr>\n",
       "      <th>1</th>\n",
       "      <td>Fishing, hunting and trapping</td>\n",
       "      <td>114</td>\n",
       "    </tr>\n",
       "    <tr>\n",
       "      <th>2</th>\n",
       "      <td>Forestry and logging</td>\n",
       "      <td>113</td>\n",
       "    </tr>\n",
       "    <tr>\n",
       "      <th>3</th>\n",
       "      <td>Support activities for agriculture and forestry</td>\n",
       "      <td>115</td>\n",
       "    </tr>\n",
       "    <tr>\n",
       "      <th>4</th>\n",
       "      <td>Oil and gas extraction</td>\n",
       "      <td>211</td>\n",
       "    </tr>\n",
       "  </tbody>\n",
       "</table>\n",
       "</div>"
      ],
      "text/plain": [
       "                             LMO_Detailed_Industry         NAICS\n",
       "0                                            Farms  [111 ,  112]\n",
       "1                    Fishing, hunting and trapping           114\n",
       "2                             Forestry and logging           113\n",
       "3  Support activities for agriculture and forestry           115\n",
       "4                           Oil and gas extraction           211"
      ]
     },
     "execution_count": 9,
     "metadata": {},
     "output_type": "execute_result"
    }
   ],
   "source": [
    "#replace the '&' with ',' seperator\n",
    "map_df_01 = mapping_df.copy()\n",
    "map_df_01['NAICS'] = mapping_df['NAICS'].str.replace('&', ',')\n",
    "map_df_01['NAICS'].fillna(mapping_df['NAICS'], inplace = True)\n",
    "\n",
    "#split the strings using the ',' seperator\n",
    "map_df = map_df_01.copy()\n",
    "map_df['NAICS'] = map_df_01['NAICS'].str.split(',')\n",
    "map_df['NAICS'].fillna(map_df_01['NAICS'], inplace = True)\n",
    "\n",
    "map_df.head()"
   ]
  },
  {
   "cell_type": "code",
   "execution_count": 10,
   "id": "8f327e91",
   "metadata": {},
   "outputs": [
    {
     "data": {
      "text/html": [
       "<div>\n",
       "<style scoped>\n",
       "    .dataframe tbody tr th:only-of-type {\n",
       "        vertical-align: middle;\n",
       "    }\n",
       "\n",
       "    .dataframe tbody tr th {\n",
       "        vertical-align: top;\n",
       "    }\n",
       "\n",
       "    .dataframe thead th {\n",
       "        text-align: right;\n",
       "    }\n",
       "</style>\n",
       "<table border=\"1\" class=\"dataframe\">\n",
       "  <thead>\n",
       "    <tr style=\"text-align: right;\">\n",
       "      <th></th>\n",
       "      <th>LMO_Detailed_Industry</th>\n",
       "      <th>NAICS</th>\n",
       "    </tr>\n",
       "  </thead>\n",
       "  <tbody>\n",
       "    <tr>\n",
       "      <th>0</th>\n",
       "      <td>Farms</td>\n",
       "      <td>[111, 112]</td>\n",
       "    </tr>\n",
       "    <tr>\n",
       "      <th>1</th>\n",
       "      <td>Fishing, hunting and trapping</td>\n",
       "      <td>[114]</td>\n",
       "    </tr>\n",
       "    <tr>\n",
       "      <th>2</th>\n",
       "      <td>Forestry and logging</td>\n",
       "      <td>[113]</td>\n",
       "    </tr>\n",
       "    <tr>\n",
       "      <th>3</th>\n",
       "      <td>Support activities for agriculture and forestry</td>\n",
       "      <td>[115]</td>\n",
       "    </tr>\n",
       "    <tr>\n",
       "      <th>4</th>\n",
       "      <td>Oil and gas extraction</td>\n",
       "      <td>[211]</td>\n",
       "    </tr>\n",
       "  </tbody>\n",
       "</table>\n",
       "</div>"
      ],
      "text/plain": [
       "                             LMO_Detailed_Industry       NAICS\n",
       "0                                            Farms  [111, 112]\n",
       "1                    Fishing, hunting and trapping       [114]\n",
       "2                             Forestry and logging       [113]\n",
       "3  Support activities for agriculture and forestry       [115]\n",
       "4                           Oil and gas extraction       [211]"
      ]
     },
     "execution_count": 10,
     "metadata": {},
     "output_type": "execute_result"
    }
   ],
   "source": [
    "#transform NAICS column to have lists\n",
    "\n",
    "#get the NAICS Column\n",
    "naics_col = map_df['NAICS']\n",
    "\n",
    "#create a list of lists\n",
    "col_list = []\n",
    "for i in range(len(naics_col)):\n",
    "    if type(naics_col[i]) == list:\n",
    "        value = naics_col[i]\n",
    "        \n",
    "    else:\n",
    "        value = [naics_col[i]]\n",
    "    \n",
    "    value = list(map(str, value))\n",
    "    value = list(map(str.strip, value))\n",
    "        \n",
    "    col_list.append(value)\n",
    "\n",
    "#replace the 'NAICS' column in the map_df\n",
    "map_df['NAICS'] = col_list\n",
    "\n",
    "map_df.head()"
   ]
  },
  {
   "cell_type": "code",
   "execution_count": 11,
   "id": "3415dfcc",
   "metadata": {},
   "outputs": [
    {
     "data": {
      "text/plain": [
       "{'111': 'Farms',\n",
       " '112': 'Farms',\n",
       " '114': 'Fishing, hunting and trapping',\n",
       " '113': 'Forestry and logging',\n",
       " '115': 'Support activities for agriculture and forestry',\n",
       " '211': 'Oil and gas extraction',\n",
       " '213': 'Support activities for mining and oil and gas extraction',\n",
       " '212': 'Mining',\n",
       " '22': 'Utilities',\n",
       " '23': 'Construction',\n",
       " '311': 'Food, beverage and tobacco manufacturing',\n",
       " '312': 'Food, beverage and tobacco manufacturing',\n",
       " '321': 'Wood product manufacturing',\n",
       " '322': 'Paper manufacturing',\n",
       " '331': 'Primary metal manufacturing',\n",
       " '332': 'Fabricated metal product manufacturing',\n",
       " '333': 'Machinery manufacturing',\n",
       " '3366': 'Ship and boat building',\n",
       " '3361': 'Transportation equipment manufacturing (excluding shipbuilding)',\n",
       " '3362': 'Transportation equipment manufacturing (excluding shipbuilding)',\n",
       " '3363': 'Transportation equipment manufacturing (excluding shipbuilding)',\n",
       " '3364': 'Transportation equipment manufacturing (excluding shipbuilding)',\n",
       " '3365': 'Transportation equipment manufacturing (excluding shipbuilding)',\n",
       " '3369': 'Transportation equipment manufacturing (excluding shipbuilding)',\n",
       " '313': 'Other manufacturing',\n",
       " '314': 'Other manufacturing',\n",
       " '315': 'Other manufacturing',\n",
       " '316': 'Other manufacturing',\n",
       " '323': 'Other manufacturing',\n",
       " '324': 'Other manufacturing',\n",
       " '325': 'Other manufacturing',\n",
       " '326': 'Other manufacturing',\n",
       " '327': 'Other manufacturing',\n",
       " '334': 'Other manufacturing',\n",
       " '335': 'Other manufacturing',\n",
       " '337': 'Other manufacturing',\n",
       " '339': 'Other manufacturing',\n",
       " '41': 'Wholesale trade',\n",
       " '441': 'Motor vehicle and parts dealers',\n",
       " '446': 'Other retail trade (excluding cars and personal care) ',\n",
       " '442': 'Other retail trade (excluding cars and personal care) ',\n",
       " '443': 'Other retail trade (excluding cars and personal care) ',\n",
       " '444': 'Other retail trade (excluding cars and personal care) ',\n",
       " '445': 'Other retail trade (excluding cars and personal care) ',\n",
       " '447': 'Other retail trade (excluding cars and personal care) ',\n",
       " '448': 'Other retail trade (excluding cars and personal care) ',\n",
       " '451': 'Other retail trade (excluding cars and personal care) ',\n",
       " '452': 'Other retail trade (excluding cars and personal care) ',\n",
       " '453': 'Other retail trade (excluding cars and personal care) ',\n",
       " '454': 'Other retail trade (excluding cars and personal care) ',\n",
       " '481': 'Air transportation',\n",
       " '482': 'Rail transportation',\n",
       " '483': 'Water transportation',\n",
       " '484': 'Truck transportation',\n",
       " '488': 'Support activities for transportation',\n",
       " '491': 'Postal service, couriers and messengers',\n",
       " '492': 'Postal service, couriers and messengers',\n",
       " '485': 'Transit, sightseeing, and pipeline transportation',\n",
       " '486': 'Transit, sightseeing, and pipeline transportation',\n",
       " '487': 'Transit, sightseeing, and pipeline transportation',\n",
       " '493': 'Warehousing and storage',\n",
       " '524': 'Insurance carriers and related activities',\n",
       " '521': 'Finance',\n",
       " '522': 'Finance',\n",
       " '523': 'Finance',\n",
       " '526': 'Finance',\n",
       " '53': 'Real estate rental and leasing',\n",
       " '5413': 'Architectural, engineering and related services',\n",
       " '5415': 'Computer systems design and related services',\n",
       " '5416': 'Management, scientific and technical consulting services',\n",
       " '5411': 'Legal, accounting, design, research, and advertising services',\n",
       " '5412': 'Legal, accounting, design, research, and advertising services',\n",
       " '5414': 'Legal, accounting, design, research, and advertising services',\n",
       " '5417': 'Legal, accounting, design, research, and advertising services',\n",
       " '5418': 'Legal, accounting, design, research, and advertising services',\n",
       " '5419': 'Legal, accounting, design, research, and advertising services',\n",
       " '55': 'Business, building and other support services',\n",
       " '56': 'Business, building and other support services',\n",
       " '6111': 'Elementary and secondary schools',\n",
       " '6112': 'Community colleges',\n",
       " '6113': 'Universities',\n",
       " '6114': 'Private and trades education',\n",
       " '6115': 'Private and trades education',\n",
       " '6116': 'Private and trades education',\n",
       " '6117': 'Private and trades education',\n",
       " '621': 'Ambulatory health care services',\n",
       " '622': 'Hospitals',\n",
       " '623': 'Nursing and residential care facilities',\n",
       " '624': 'Social assistance',\n",
       " '511': 'Publishing industries',\n",
       " '512': 'Motion picture and sound recording industries',\n",
       " '517': 'Telecommunications',\n",
       " '515': 'Broadcasting, data processing, and information',\n",
       " '518': 'Broadcasting, data processing, and information',\n",
       " '519': 'Broadcasting, data processing, and information',\n",
       " '711': 'Performing arts, spectator sports and related industries',\n",
       " '713': 'Amusement, gambling and recreation industries',\n",
       " '712': 'Heritage institutions',\n",
       " '721': 'Accommodation services',\n",
       " '722': 'Food services and drinking places',\n",
       " '81': 'Repair, personal and non-profit services',\n",
       " '911': 'Federal government public administration',\n",
       " '912': 'Provincial and territorial public administration',\n",
       " '913': 'Local and Indigenous public administration',\n",
       " '914': 'Local and Indigenous public administration',\n",
       " '919': 'Local and Indigenous public administration'}"
      ]
     },
     "execution_count": 11,
     "metadata": {},
     "output_type": "execute_result"
    }
   ],
   "source": [
    "# Create a dictionary from the mapping DataFrame\n",
    "mapping_dict = {}\n",
    "for old_val, new_val in zip(map_df['NAICS'], map_df['LMO_Detailed_Industry']):\n",
    "    for val in old_val:\n",
    "        mapping_dict[val.strip(',')] = new_val\n",
    "        \n",
    "mapping_dict"
   ]
  },
  {
   "cell_type": "markdown",
   "id": "aec4194b",
   "metadata": {},
   "source": [
    "#### 4.3.2 Map the NAICS to Industry Details using the Mapping Dictionary"
   ]
  },
  {
   "cell_type": "code",
   "execution_count": 12,
   "id": "b8c44310",
   "metadata": {},
   "outputs": [
    {
     "data": {
      "text/html": [
       "<div>\n",
       "<style scoped>\n",
       "    .dataframe tbody tr th:only-of-type {\n",
       "        vertical-align: middle;\n",
       "    }\n",
       "\n",
       "    .dataframe tbody tr th {\n",
       "        vertical-align: top;\n",
       "    }\n",
       "\n",
       "    .dataframe thead th {\n",
       "        text-align: right;\n",
       "    }\n",
       "</style>\n",
       "<table border=\"1\" class=\"dataframe\">\n",
       "  <thead>\n",
       "    <tr style=\"text-align: right;\">\n",
       "      <th></th>\n",
       "      <th>SYEAR</th>\n",
       "      <th>SMTH</th>\n",
       "      <th>LMO_Detailed_Industry</th>\n",
       "      <th>Employment</th>\n",
       "    </tr>\n",
       "  </thead>\n",
       "  <tbody>\n",
       "    <tr>\n",
       "      <th>1</th>\n",
       "      <td>1997</td>\n",
       "      <td>1</td>\n",
       "      <td>Accommodation services</td>\n",
       "      <td>24000</td>\n",
       "    </tr>\n",
       "    <tr>\n",
       "      <th>3</th>\n",
       "      <td>1997</td>\n",
       "      <td>1</td>\n",
       "      <td>Air transportation</td>\n",
       "      <td>17000</td>\n",
       "    </tr>\n",
       "    <tr>\n",
       "      <th>4</th>\n",
       "      <td>1997</td>\n",
       "      <td>1</td>\n",
       "      <td>Ambulatory health care services</td>\n",
       "      <td>40000</td>\n",
       "    </tr>\n",
       "    <tr>\n",
       "      <th>5</th>\n",
       "      <td>1997</td>\n",
       "      <td>1</td>\n",
       "      <td>Amusement, gambling and recreation industries</td>\n",
       "      <td>20000</td>\n",
       "    </tr>\n",
       "    <tr>\n",
       "      <th>236</th>\n",
       "      <td>1997</td>\n",
       "      <td>1</td>\n",
       "      <td>Architectural, engineering and related services</td>\n",
       "      <td>27000</td>\n",
       "    </tr>\n",
       "  </tbody>\n",
       "</table>\n",
       "</div>"
      ],
      "text/plain": [
       "     SYEAR  SMTH                            LMO_Detailed_Industry  Employment\n",
       "1     1997     1                           Accommodation services       24000\n",
       "3     1997     1                               Air transportation       17000\n",
       "4     1997     1                  Ambulatory health care services       40000\n",
       "5     1997     1    Amusement, gambling and recreation industries       20000\n",
       "236   1997     1  Architectural, engineering and related services       27000"
      ]
     },
     "execution_count": 12,
     "metadata": {},
     "output_type": "execute_result"
    }
   ],
   "source": [
    "# Map the Columns of 'NAICS' in the Merged DF with valus in the maping dictionary\n",
    "merged_df['NAICS'] = merged_df['NAICS'].astype(str).map(mapping_dict)\n",
    "\n",
    "#rename columns\n",
    "merged_df.columns = ['SYEAR', 'SMTH', 'LMO_Detailed_Industry', 'Employment']\n",
    "\n",
    "# drop NaN values \n",
    "merged_df.dropna(subset=['LMO_Detailed_Industry'], inplace=True)\n",
    "\n",
    "#sort the mnerged dataframe\n",
    "merged_df = merged_df.sort_values(by = ['SYEAR', 'SMTH', 'LMO_Detailed_Industry'])\n",
    "\n",
    "merged_df.head()"
   ]
  },
  {
   "cell_type": "markdown",
   "id": "6af90de7",
   "metadata": {},
   "source": [
    "#### 4.3.3 Group the Merged dataframe"
   ]
  },
  {
   "cell_type": "code",
   "execution_count": 13,
   "id": "d4047ae5",
   "metadata": {
    "scrolled": true
   },
   "outputs": [
    {
     "data": {
      "text/html": [
       "<div>\n",
       "<style scoped>\n",
       "    .dataframe tbody tr th:only-of-type {\n",
       "        vertical-align: middle;\n",
       "    }\n",
       "\n",
       "    .dataframe tbody tr th {\n",
       "        vertical-align: top;\n",
       "    }\n",
       "\n",
       "    .dataframe thead th {\n",
       "        text-align: right;\n",
       "    }\n",
       "</style>\n",
       "<table border=\"1\" class=\"dataframe\">\n",
       "  <thead>\n",
       "    <tr style=\"text-align: right;\">\n",
       "      <th></th>\n",
       "      <th>DATE</th>\n",
       "      <th>SYEAR</th>\n",
       "      <th>SMTH</th>\n",
       "      <th>LMO_Detailed_Industry</th>\n",
       "      <th>Employment</th>\n",
       "    </tr>\n",
       "  </thead>\n",
       "  <tbody>\n",
       "    <tr>\n",
       "      <th>0</th>\n",
       "      <td>1997-01-01</td>\n",
       "      <td>1997</td>\n",
       "      <td>1</td>\n",
       "      <td>Accommodation services</td>\n",
       "      <td>24000</td>\n",
       "    </tr>\n",
       "    <tr>\n",
       "      <th>1</th>\n",
       "      <td>1997-01-01</td>\n",
       "      <td>1997</td>\n",
       "      <td>1</td>\n",
       "      <td>Air transportation</td>\n",
       "      <td>17000</td>\n",
       "    </tr>\n",
       "    <tr>\n",
       "      <th>2</th>\n",
       "      <td>1997-01-01</td>\n",
       "      <td>1997</td>\n",
       "      <td>1</td>\n",
       "      <td>Ambulatory health care services</td>\n",
       "      <td>40000</td>\n",
       "    </tr>\n",
       "    <tr>\n",
       "      <th>3</th>\n",
       "      <td>1997-01-01</td>\n",
       "      <td>1997</td>\n",
       "      <td>1</td>\n",
       "      <td>Amusement, gambling and recreation industries</td>\n",
       "      <td>20000</td>\n",
       "    </tr>\n",
       "    <tr>\n",
       "      <th>4</th>\n",
       "      <td>1997-01-01</td>\n",
       "      <td>1997</td>\n",
       "      <td>1</td>\n",
       "      <td>Architectural, engineering and related services</td>\n",
       "      <td>27000</td>\n",
       "    </tr>\n",
       "  </tbody>\n",
       "</table>\n",
       "</div>"
      ],
      "text/plain": [
       "        DATE  SYEAR  SMTH                            LMO_Detailed_Industry  \\\n",
       "0 1997-01-01   1997     1                           Accommodation services   \n",
       "1 1997-01-01   1997     1                               Air transportation   \n",
       "2 1997-01-01   1997     1                  Ambulatory health care services   \n",
       "3 1997-01-01   1997     1    Amusement, gambling and recreation industries   \n",
       "4 1997-01-01   1997     1  Architectural, engineering and related services   \n",
       "\n",
       "   Employment  \n",
       "0       24000  \n",
       "1       17000  \n",
       "2       40000  \n",
       "3       20000  \n",
       "4       27000  "
      ]
     },
     "execution_count": 13,
     "metadata": {},
     "output_type": "execute_result"
    }
   ],
   "source": [
    "#define the variables to groupby\n",
    "grouped = merged_df.groupby(['SYEAR', 'SMTH', 'LMO_Detailed_Industry'])\n",
    "\n",
    "#aggregate the grouped \n",
    "grouped_df = grouped[['Employment']].sum()\n",
    "\n",
    "#reset index of the grouped dataframe\n",
    "grouped_df = grouped_df.reset_index()\n",
    "\n",
    "#combine Year and Month Columns to a Date Column\n",
    "grouped_df['DATE'] = pd.to_datetime(grouped_df.SYEAR.astype(str) + '/' + grouped_df.SMTH.astype(str) + '/01')\n",
    "\n",
    "#filter for relevant columns only\n",
    "grouped_df = grouped_df[['DATE', 'SYEAR', 'SMTH', 'LMO_Detailed_Industry', 'Employment']]\n",
    "\n",
    "#view the head of the dataframe\n",
    "grouped_df.head()"
   ]
  },
  {
   "cell_type": "markdown",
   "id": "94c852a3",
   "metadata": {},
   "source": [
    "## 5. Exploratory data Analysis (EDA)\n",
    "\n",
    "We explore the employment data across the different industries and address the following questions:\n",
    "\n",
    "1. Descriptive Statistics and Distribution\n",
    "\n",
    "\n",
    "2. Evolution of Employment in Construction over Time\n",
    "\n",
    "\n",
    "2. Relationship of Employment in Construction and in Architectural, engineering and related services\n",
    "\n",
    "\n",
    "3. Share of Employment by Industry for Top 10 Industries\n",
    "\n",
    "\n",
    "4. Average Employment Levels per Month"
   ]
  },
  {
   "cell_type": "markdown",
   "id": "a6418701",
   "metadata": {},
   "source": [
    "### 5.1 Descriptive Statistics and Distribution\n",
    "\n",
    "From the descriptive statistics we note that the employment data has a wide range and variability with a minimum of zero employment recorded in some instances to a maximum of 524500. The histogram plot shows a distribution which is skewed to the right with observable outliers. For the purpose of this analysis, we will not remove the outliers but will take into consideration their presense when making any sort of interpretetions."
   ]
  },
  {
   "cell_type": "code",
   "execution_count": 14,
   "id": "1f54acfc",
   "metadata": {
    "scrolled": true
   },
   "outputs": [
    {
     "data": {
      "text/html": [
       "<div>\n",
       "<style scoped>\n",
       "    .dataframe tbody tr th:only-of-type {\n",
       "        vertical-align: middle;\n",
       "    }\n",
       "\n",
       "    .dataframe tbody tr th {\n",
       "        vertical-align: top;\n",
       "    }\n",
       "\n",
       "    .dataframe thead th {\n",
       "        text-align: right;\n",
       "    }\n",
       "</style>\n",
       "<table border=\"1\" class=\"dataframe\">\n",
       "  <thead>\n",
       "    <tr style=\"text-align: right;\">\n",
       "      <th></th>\n",
       "      <th>count</th>\n",
       "      <th>mean</th>\n",
       "      <th>std</th>\n",
       "      <th>min</th>\n",
       "      <th>25%</th>\n",
       "      <th>50%</th>\n",
       "      <th>75%</th>\n",
       "      <th>max</th>\n",
       "    </tr>\n",
       "  </thead>\n",
       "  <tbody>\n",
       "    <tr>\n",
       "      <th>Employment</th>\n",
       "      <td>13992.0</td>\n",
       "      <td>42883.433391</td>\n",
       "      <td>54058.626258</td>\n",
       "      <td>0.0</td>\n",
       "      <td>12000.0</td>\n",
       "      <td>26000.0</td>\n",
       "      <td>53750.0</td>\n",
       "      <td>524500.0</td>\n",
       "    </tr>\n",
       "  </tbody>\n",
       "</table>\n",
       "</div>"
      ],
      "text/plain": [
       "              count          mean           std  min      25%      50%  \\\n",
       "Employment  13992.0  42883.433391  54058.626258  0.0  12000.0  26000.0   \n",
       "\n",
       "                75%       max  \n",
       "Employment  53750.0  524500.0  "
      ]
     },
     "execution_count": 14,
     "metadata": {},
     "output_type": "execute_result"
    }
   ],
   "source": [
    "#get descriptive statistics for Employment\n",
    "grouped_df.describe()[['Employment']].T"
   ]
  },
  {
   "cell_type": "code",
   "execution_count": 15,
   "id": "5b73ae78",
   "metadata": {},
   "outputs": [
    {
     "data": {
      "image/png": "[encoded data removed]",
      "text/plain": [
       "<Figure size 640x480 with 1 Axes>"
      ]
     },
     "metadata": {},
     "output_type": "display_data"
    }
   ],
   "source": [
    "#histogram plot of employment\n",
    "plt.hist(grouped_df['Employment'], bins = 30)\n",
    "plt.title('Histogram Plot of Employment Levels')\n",
    "plt.xlabel('Employment Level')\n",
    "plt.ylabel('Count')\n",
    "plt.show()"
   ]
  },
  {
   "cell_type": "markdown",
   "id": "b0368760",
   "metadata": {},
   "source": [
    "### 5.2 Evolution of Employment in Construction over Time"
   ]
  },
  {
   "cell_type": "code",
   "execution_count": 16,
   "id": "96b9d0c2",
   "metadata": {},
   "outputs": [],
   "source": [
    "# get all the Industry data\n",
    "industry_data = industry_data(grouped_df)\n",
    "\n",
    "#Get Construction data\n",
    "construction_data = industry_data['Construction']\n",
    "\n",
    "#average construction by year\n",
    "construction_by_year = construction_data.groupby('SYEAR')['Employment'].mean()\n",
    "\n",
    "#average of all instustries by year\n",
    "all_by_year = grouped_df.groupby('SYEAR')['Employment'].mean()"
   ]
  },
  {
   "cell_type": "code",
   "execution_count": 20,
   "id": "2b9c38bc",
   "metadata": {},
   "outputs": [
    {
     "data": {
      "image/png": "[encoded data removed]",
      "text/plain": [
       "<Figure size 640x480 with 1 Axes>"
      ]
     },
     "metadata": {},
     "output_type": "display_data"
    }
   ],
   "source": [
    "#plot of year to year employment data\n",
    "plt.plot(all_by_year, label = 'Average Total Employment')\n",
    "plt.plot(construction_by_year, label = 'Average Construction Employment')\n",
    "plt.title('Yearly Average Employment')\n",
    "plt.xlabel('Year')\n",
    "plt.ylabel('Everage Employment')\n",
    "plt.legend()\n",
    "\n",
    "plt.show()"
   ]
  },
  {
   "cell_type": "markdown",
   "id": "186a31d9",
   "metadata": {},
   "source": [
    "From the analysis of the evolution of the employment in the Construction industry, we note that the employment levels steadily increased from around 2004 after a period of relatively no movement from before 2000. This steady average increase continued to somewhere around 2008 when again a relatively no movement was observed until 2015 when again employment levels increased. This increase went to somewhere 2017 after which a sharp decline was noticed from 2017.\n",
    "\n",
    "Compared to the overall average, the Construction average is higher. This can be due to the fact that the Construction numbers maybe on a higher outlier end which affects the average. The overall employment showed only slight increase from before 2000 to 2010 when a an increase was noticed up to 2011 before another flat period started lasting till 2018 when the levels dropped. "
   ]
  },
  {
   "cell_type": "markdown",
   "id": "4e0ca53d",
   "metadata": {},
   "source": [
    "### 5.3 Relationship of Employment in Construction and in Architectural, engineering and related services\n",
    "\n",
    "We explore whether the employment levels in the Construction industry as a whole as an effect on employment levels of Architectural, engineering and related services. This will provide us with insights of whether the increased construction employment results in increases Architectural, engineering and related services which will inform us as to whether construction works are utilizing the services of qualifies Architects and Engineers."
   ]
  },
  {
   "cell_type": "code",
   "execution_count": 22,
   "id": "a2560c2d",
   "metadata": {},
   "outputs": [
    {
     "data": {
      "text/html": [
       "<div>\n",
       "<style scoped>\n",
       "    .dataframe tbody tr th:only-of-type {\n",
       "        vertical-align: middle;\n",
       "    }\n",
       "\n",
       "    .dataframe tbody tr th {\n",
       "        vertical-align: top;\n",
       "    }\n",
       "\n",
       "    .dataframe thead th {\n",
       "        text-align: right;\n",
       "    }\n",
       "</style>\n",
       "<table border=\"1\" class=\"dataframe\">\n",
       "  <thead>\n",
       "    <tr style=\"text-align: right;\">\n",
       "      <th></th>\n",
       "      <th>DATE</th>\n",
       "      <th>SYEAR</th>\n",
       "      <th>SMTH</th>\n",
       "      <th>LMO_Detailed_Industry</th>\n",
       "      <th>Employment</th>\n",
       "    </tr>\n",
       "  </thead>\n",
       "  <tbody>\n",
       "    <tr>\n",
       "      <th>4</th>\n",
       "      <td>1997-01-01</td>\n",
       "      <td>1997</td>\n",
       "      <td>1</td>\n",
       "      <td>Architectural, engineering and related services</td>\n",
       "      <td>27000</td>\n",
       "    </tr>\n",
       "    <tr>\n",
       "      <th>62</th>\n",
       "      <td>1997-02-01</td>\n",
       "      <td>1997</td>\n",
       "      <td>2</td>\n",
       "      <td>Architectural, engineering and related services</td>\n",
       "      <td>27750</td>\n",
       "    </tr>\n",
       "    <tr>\n",
       "      <th>120</th>\n",
       "      <td>1997-03-01</td>\n",
       "      <td>1997</td>\n",
       "      <td>3</td>\n",
       "      <td>Architectural, engineering and related services</td>\n",
       "      <td>29250</td>\n",
       "    </tr>\n",
       "    <tr>\n",
       "      <th>178</th>\n",
       "      <td>1997-04-01</td>\n",
       "      <td>1997</td>\n",
       "      <td>4</td>\n",
       "      <td>Architectural, engineering and related services</td>\n",
       "      <td>27750</td>\n",
       "    </tr>\n",
       "    <tr>\n",
       "      <th>236</th>\n",
       "      <td>1997-05-01</td>\n",
       "      <td>1997</td>\n",
       "      <td>5</td>\n",
       "      <td>Architectural, engineering and related services</td>\n",
       "      <td>29750</td>\n",
       "    </tr>\n",
       "  </tbody>\n",
       "</table>\n",
       "</div>"
      ],
      "text/plain": [
       "          DATE  SYEAR  SMTH                            LMO_Detailed_Industry  \\\n",
       "4   1997-01-01   1997     1  Architectural, engineering and related services   \n",
       "62  1997-02-01   1997     2  Architectural, engineering and related services   \n",
       "120 1997-03-01   1997     3  Architectural, engineering and related services   \n",
       "178 1997-04-01   1997     4  Architectural, engineering and related services   \n",
       "236 1997-05-01   1997     5  Architectural, engineering and related services   \n",
       "\n",
       "     Employment  \n",
       "4         27000  \n",
       "62        27750  \n",
       "120       29250  \n",
       "178       27750  \n",
       "236       29750  "
      ]
     },
     "execution_count": 22,
     "metadata": {},
     "output_type": "execute_result"
    }
   ],
   "source": [
    "#get data for Architectural, engineering and related services\n",
    "act_eng_data = industry_data['Architectural, engineering and related services']\n",
    "act_eng_data.head()"
   ]
  },
  {
   "cell_type": "code",
   "execution_count": 23,
   "id": "0418ea9b",
   "metadata": {},
   "outputs": [
    {
     "data": {
      "text/plain": [
       "(276, 5)"
      ]
     },
     "execution_count": 23,
     "metadata": {},
     "output_type": "execute_result"
    }
   ],
   "source": [
    "act_eng_data.shape"
   ]
  },
  {
   "cell_type": "code",
   "execution_count": 24,
   "id": "46a2cd7d",
   "metadata": {},
   "outputs": [
    {
     "data": {
      "text/plain": [
       "(276, 5)"
      ]
     },
     "execution_count": 24,
     "metadata": {},
     "output_type": "execute_result"
    }
   ],
   "source": [
    "construction_data.shape"
   ]
  },
  {
   "cell_type": "code",
   "execution_count": 25,
   "id": "627269ac",
   "metadata": {},
   "outputs": [
    {
     "data": {
      "image/png": "[encoded data removed]",
      "text/plain": [
       "<Figure size 640x480 with 1 Axes>"
      ]
     },
     "metadata": {},
     "output_type": "display_data"
    }
   ],
   "source": [
    "#plot scatterplot of Construction and Architectural, engineering and related services Employment\n",
    "plt.scatter(construction_data['Employment'], act_eng_data['Employment'])\n",
    "plt.title('Scatterplot of Construction and Architectural, engineering and related services Employment')\n",
    "plt.xlabel('Construction Employment')\n",
    "plt.ylabel('Arch., Eng., and related services Employment')\n",
    "plt.show()"
   ]
  },
  {
   "cell_type": "code",
   "execution_count": 26,
   "id": "42bf7ae9",
   "metadata": {},
   "outputs": [
    {
     "data": {
      "text/plain": [
       "array([[1.       , 0.8443105],\n",
       "       [0.8443105, 1.       ]])"
      ]
     },
     "execution_count": 26,
     "metadata": {},
     "output_type": "execute_result"
    }
   ],
   "source": [
    "#correlation coefficient\n",
    "np.corrcoef(construction_data['Employment'].values,\n",
    "            act_eng_data['Employment'].values)"
   ]
  },
  {
   "cell_type": "markdown",
   "id": "1149a6e0",
   "metadata": {},
   "source": [
    "We note that the scatterplot of the Construction Employment and the Architectural, engineering and related services Employment shows a strong positive linear relationship. An increase in Construction Employment overall leads to an increase in the Architectural, engineering and related services Employment. this is confirmed by a positive correlation coefficient of 0.844. This indicates that the increase in construction works do result in an increase in the use of qualifies Architects and Engineers."
   ]
  },
  {
   "cell_type": "markdown",
   "id": "65e70a2d",
   "metadata": {},
   "source": [
    "### 5.4 Share of Employment by Industry for Top 10 Industries\n",
    "We explore the share of employment by industry to uncover which industries employs more compared to the other industries. We will consider the top 10 Industries in terms of employment"
   ]
  },
  {
   "cell_type": "code",
   "execution_count": 79,
   "id": "99a28f50",
   "metadata": {},
   "outputs": [
    {
     "name": "stdout",
     "output_type": "stream",
     "text": [
      "LMO_Detailed_Industry\n",
      "Other retail trade (excluding cars and personal care)     293994.517544\n",
      "Construction                                              172523.550725\n",
      "Food services and drinking places                         167935.307018\n",
      "Hospitals                                                 107783.991228\n",
      "Repair, personal and non-profit services                   98200.181159\n",
      "Business, building and other support services              87190.217391\n",
      "Elementary and secondary schools                           83140.398551\n",
      "Ambulatory health care services                            81755.482456\n",
      "Wholesale trade                                            77363.224638\n",
      "Other manufacturing                                        74714.912281\n",
      "Name: Employment, dtype: float64\n"
     ]
    }
   ],
   "source": [
    "#group the average employement per Industry\n",
    "avg_per_industry = grouped_df.groupby('LMO_Detailed_Industry')['Employment'].mean()\n",
    "\n",
    "top_10 = avg_per_industry.sort_values(ascending = False).head(10)\n",
    "print(top_10)"
   ]
  },
  {
   "cell_type": "code",
   "execution_count": 80,
   "id": "9fcae334",
   "metadata": {},
   "outputs": [
    {
     "data": {
      "image/png": "[encoded data removed]",
      "text/plain": [
       "<Figure size 640x480 with 1 Axes>"
      ]
     },
     "metadata": {},
     "output_type": "display_data"
    }
   ],
   "source": [
    "#Plot Horizontal Barplot of the Top 10 Industries\n",
    "plt.barh(top_10.index, top_10.sort_values().values)\n",
    "plt.title('Average Employement for Top 10 Industries')\n",
    "plt.xlabel('Average Employment')\n",
    "plt.ylabel('Industry')\n",
    "plt.show()"
   ]
  },
  {
   "cell_type": "markdown",
   "id": "db9b4c00",
   "metadata": {},
   "source": [
    "We note that the Other Manufacturing industry has the highest levels of employment. This is followed by the Wholesale trade. Construction is on number 9 on the top ten industries."
   ]
  },
  {
   "cell_type": "markdown",
   "id": "708ffb8a",
   "metadata": {},
   "source": [
    "### 5.5 Average Employment Levels per Month"
   ]
  },
  {
   "cell_type": "code",
   "execution_count": 78,
   "id": "f846973e",
   "metadata": {},
   "outputs": [
    {
     "data": {
      "image/png": "[encoded data removed]",
      "text/plain": [
       "<Figure size 640x480 with 1 Axes>"
      ]
     },
     "metadata": {},
     "output_type": "display_data"
    }
   ],
   "source": [
    "#group the average data by month\n",
    "monthly_avg = grouped_df.groupby('SMTH')['Employment'].mean()\n",
    "\n",
    "#plot monthly average employement\n",
    "plt.plot(monthly_avg)\n",
    "plt.title('Monthly Average Employment')\n",
    "plt.xlabel('Month')\n",
    "plt.ylabel('Average Employment')\n",
    "plt.show()"
   ]
  },
  {
   "cell_type": "markdown",
   "id": "1424e69b",
   "metadata": {},
   "source": [
    "To understand the changes in employment levels over the months of the year we look at the average employment levels for each month. We note that the distribution of the employment levels over the moths has close to a bell shaped distribution with majority of employment being within the mid year and reduced levels during the start and end of year."
   ]
  },
  {
   "cell_type": "code",
   "execution_count": null,
   "id": "7f8c1519",
   "metadata": {},
   "outputs": [],
   "source": []
  }
 ],
 "metadata": {
  "kernelspec": {
   "display_name": "Python 3 (ipykernel)",
   "language": "python",
   "name": "python3"
  },
  "language_info": {
   "codemirror_mode": {
    "name": "ipython",
    "version": 3
   },
   "file_extension": ".py",
   "mimetype": "text/x-python",
   "name": "python",
   "nbconvert_exporter": "python",
   "pygments_lexer": "ipython3",
   "version": "3.9.13"
  }
 },
 "nbformat": 4,
 "nbformat_minor": 5
}
