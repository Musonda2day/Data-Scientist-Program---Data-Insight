{
 "cells": [
  {
   "cell_type": "markdown",
   "metadata": {},
   "source": [
    "## Currency Conversion #\n",
    "---"
   ]
  },
  {
   "cell_type": "markdown",
   "metadata": {},
   "source": [
    "### Table of Contents\n",
    "\n",
    "1. Introduction\n",
    "\n",
    "\n",
    "2. Load Required Packages\n",
    "\n",
    "\n",
    "3. Define Currency pairs\n",
    "\n",
    "\n",
    "4. Get Data for the Tickers\n",
    "\n",
    "\n",
    "5. Convert Base Currency to Quoted Currency\n",
    "\n",
    "---\n"
   ]
  },
  {
   "cell_type": "markdown",
   "metadata": {},
   "source": [
    "### 1. Introduction\n",
    "\n",
    "Investopedia (https://www.investopedia.com/terms/c/currencypair.asp#:~:text=A%20currency%20pair%20is%20the,is%20called%20the%20quote%20currency)  defines a currency pair as a quotation of two different curriencies with value of one currency (Base Currency) being quoted against the other (Quoted Currency).\n",
    "\n",
    "In a curency pair the first currency is the base and the second is the quoted. The pair is represented as BaseQuoted=X which interpretes as 1 Base Currency is equal to X Quoted Currency. for example, a quote of USDZMW=15.65 means that USD1 is equal to ZMW15.65.\n",
    "\n",
    "We will develope a program that will allow a user to enter an amount to be converted from one currency to another and also provide a historical visualisation of the performance of the selected currency pair over a one month period.\n",
    "\n",
    "---"
   ]
  },
  {
   "cell_type": "markdown",
   "metadata": {},
   "source": [
    "### 2. Load Required Packages"
   ]
  },
  {
   "cell_type": "code",
   "execution_count": 1,
   "metadata": {},
   "outputs": [],
   "source": [
    "import pandas as pd\n",
    "import matplotlib.pyplot as plt\n",
    "plt.style.use('seaborn-whitegrid')\n",
    "import yfinance as yf"
   ]
  },
  {
   "cell_type": "markdown",
   "metadata": {},
   "source": [
    "### 3. Define Curreny Pair Variables\n",
    "\n",
    "We will reference all the currencies to the USD with the USD as the base currency and the other curriencies as the quoted currency. This will allow us to convert the curriencies between the other curriencies based on their conversion rates with the USD. \n",
    "\n",
    "The symbols for the circulating currencies can be checked from https://en.wikipedia.org/wiki/List_of_circulating_currencies"
   ]
  },
  {
   "cell_type": "code",
   "execution_count": 2,
   "metadata": {},
   "outputs": [
    {
     "name": "stdout",
     "output_type": "stream",
     "text": [
      "Enter the Amount to Convert: 234\n",
      "Enter Currency to Convert From: gbp\n",
      "Enter Currency to Convert To: zmw\n",
      "\n",
      "You want to convert 234.0 GBP to ZMW\n"
     ]
    }
   ],
   "source": [
    "amount = float(input(\"Enter the Amount to Convert: \")) \n",
    "base = input(\"Enter Currency to Convert From: \")\n",
    "quoted= input(\"Enter Currency to Convert To: \")\n",
    "print(\"\\nYou want to convert \" + str(amount) + \" \" + base.upper() + \" to \" + quoted.upper())"
   ]
  },
  {
   "cell_type": "code",
   "execution_count": 3,
   "metadata": {},
   "outputs": [],
   "source": [
    "# ticker symbols for USD as base currency \n",
    "base = base.upper()\n",
    "quoted = quoted.upper()\n",
    "\n",
    "if base==\"EUR\":\n",
    "    base_ticker = \"USDEUR=X\"\n",
    "else:\n",
    "    base_ticker = base + \"=X\"\n",
    "\n",
    "if quoted==\"EUR\":\n",
    "    quoted_ticker = \"USDEUR=X\"\n",
    "else:\n",
    "    quoted_ticker = quoted + \"=X\""
   ]
  },
  {
   "cell_type": "markdown",
   "metadata": {},
   "source": [
    "### 4. Get the Data for the Tickers"
   ]
  },
  {
   "cell_type": "code",
   "execution_count": 4,
   "metadata": {},
   "outputs": [
    {
     "name": "stdout",
     "output_type": "stream",
     "text": [
      "[*********************100%***********************]  1 of 1 completed\n",
      "[*********************100%***********************]  1 of 1 completed\n"
     ]
    }
   ],
   "source": [
    "#download 1 month data for the two currencies against the USD\n",
    "base_data = yf.download(base_ticker, period=\"1mo\")[[\"Adj Close\"]]\n",
    "quoted_data = yf.download(quoted_ticker, period=\"1mo\")[[\"Adj Close\"]]\n",
    "\n",
    "#change column names\n",
    "base_data.columns = [base_ticker]\n",
    "quoted_data.columns = [quoted_ticker]"
   ]
  },
  {
   "cell_type": "code",
   "execution_count": 5,
   "metadata": {},
   "outputs": [],
   "source": [
    "#if base is USD then USD/USD=1\n",
    "#fill the base_data dataframe with ones if base is USD\n",
    "if base==\"USD\":\n",
    "    base_data = quoted_data.copy()\n",
    "    base_data.columns = [base_ticker]\n",
    "    base_data[base_ticker] = base_data[base_ticker]/base_data[base_ticker]\n",
    "    \n",
    "else:\n",
    "    base_data = base_data\n",
    "    \n",
    "#if quoted is USD then USD/USD=1\n",
    "#fill the quoted_data dataframe with ones if quoted is USD\n",
    "if quoted==\"USD\":\n",
    "    quoted_data = base_data.copy()\n",
    "    quoted_data.columns = [quoted_ticker]\n",
    "    quoted_data[quoted_ticker] = quoted_data[quoted_ticker]/quoted_data[quoted_ticker]\n",
    "    \n",
    "else:\n",
    "    base_data = base_data"
   ]
  },
  {
   "cell_type": "code",
   "execution_count": 6,
   "metadata": {},
   "outputs": [
    {
     "data": {
      "text/html": [
       "<div>\n",
       "<style scoped>\n",
       "    .dataframe tbody tr th:only-of-type {\n",
       "        vertical-align: middle;\n",
       "    }\n",
       "\n",
       "    .dataframe tbody tr th {\n",
       "        vertical-align: top;\n",
       "    }\n",
       "\n",
       "    .dataframe thead th {\n",
       "        text-align: right;\n",
       "    }\n",
       "</style>\n",
       "<table border=\"1\" class=\"dataframe\">\n",
       "  <thead>\n",
       "    <tr style=\"text-align: right;\">\n",
       "      <th></th>\n",
       "      <th>GBP=X</th>\n",
       "      <th>ZMW=X</th>\n",
       "    </tr>\n",
       "    <tr>\n",
       "      <th>Date</th>\n",
       "      <th></th>\n",
       "      <th></th>\n",
       "    </tr>\n",
       "  </thead>\n",
       "  <tbody>\n",
       "    <tr>\n",
       "      <th>2022-09-13</th>\n",
       "      <td>0.85545</td>\n",
       "      <td>15.453927</td>\n",
       "    </tr>\n",
       "    <tr>\n",
       "      <th>2022-09-14</th>\n",
       "      <td>0.86910</td>\n",
       "      <td>15.469543</td>\n",
       "    </tr>\n",
       "    <tr>\n",
       "      <th>2022-09-15</th>\n",
       "      <td>0.86618</td>\n",
       "      <td>15.500864</td>\n",
       "    </tr>\n",
       "    <tr>\n",
       "      <th>2022-09-16</th>\n",
       "      <td>0.87316</td>\n",
       "      <td>15.517041</td>\n",
       "    </tr>\n",
       "    <tr>\n",
       "      <th>2022-09-19</th>\n",
       "      <td>0.87744</td>\n",
       "      <td>15.650000</td>\n",
       "    </tr>\n",
       "  </tbody>\n",
       "</table>\n",
       "</div>"
      ],
      "text/plain": [
       "              GBP=X      ZMW=X\n",
       "Date                          \n",
       "2022-09-13  0.85545  15.453927\n",
       "2022-09-14  0.86910  15.469543\n",
       "2022-09-15  0.86618  15.500864\n",
       "2022-09-16  0.87316  15.517041\n",
       "2022-09-19  0.87744  15.650000"
      ]
     },
     "execution_count": 6,
     "metadata": {},
     "output_type": "execute_result"
    }
   ],
   "source": [
    "#merge the two dataframes for the two currencies\n",
    "\n",
    "data = pd.merge(base_data, quoted_data,\n",
    "               left_index=True, right_index=True)\n",
    "\n",
    "data.tail()"
   ]
  },
  {
   "cell_type": "code",
   "execution_count": 7,
   "metadata": {},
   "outputs": [
    {
     "data": {
      "text/html": [
       "<div>\n",
       "<style scoped>\n",
       "    .dataframe tbody tr th:only-of-type {\n",
       "        vertical-align: middle;\n",
       "    }\n",
       "\n",
       "    .dataframe tbody tr th {\n",
       "        vertical-align: top;\n",
       "    }\n",
       "\n",
       "    .dataframe thead th {\n",
       "        text-align: right;\n",
       "    }\n",
       "</style>\n",
       "<table border=\"1\" class=\"dataframe\">\n",
       "  <thead>\n",
       "    <tr style=\"text-align: right;\">\n",
       "      <th></th>\n",
       "      <th>GBP=X</th>\n",
       "      <th>ZMW=X</th>\n",
       "      <th>GBP/ZMW</th>\n",
       "    </tr>\n",
       "    <tr>\n",
       "      <th>Date</th>\n",
       "      <th></th>\n",
       "      <th></th>\n",
       "      <th></th>\n",
       "    </tr>\n",
       "  </thead>\n",
       "  <tbody>\n",
       "    <tr>\n",
       "      <th>2022-08-19</th>\n",
       "      <td>0.83803</td>\n",
       "      <td>16.074284</td>\n",
       "      <td>19.181036</td>\n",
       "    </tr>\n",
       "    <tr>\n",
       "      <th>2022-08-22</th>\n",
       "      <td>0.84616</td>\n",
       "      <td>16.100779</td>\n",
       "      <td>19.028055</td>\n",
       "    </tr>\n",
       "    <tr>\n",
       "      <th>2022-08-23</th>\n",
       "      <td>0.84987</td>\n",
       "      <td>16.079695</td>\n",
       "      <td>18.920181</td>\n",
       "    </tr>\n",
       "    <tr>\n",
       "      <th>2022-08-24</th>\n",
       "      <td>0.84511</td>\n",
       "      <td>16.118629</td>\n",
       "      <td>19.072818</td>\n",
       "    </tr>\n",
       "    <tr>\n",
       "      <th>2022-08-25</th>\n",
       "      <td>0.84805</td>\n",
       "      <td>16.081800</td>\n",
       "      <td>18.963269</td>\n",
       "    </tr>\n",
       "  </tbody>\n",
       "</table>\n",
       "</div>"
      ],
      "text/plain": [
       "              GBP=X      ZMW=X    GBP/ZMW\n",
       "Date                                     \n",
       "2022-08-19  0.83803  16.074284  19.181036\n",
       "2022-08-22  0.84616  16.100779  19.028055\n",
       "2022-08-23  0.84987  16.079695  18.920181\n",
       "2022-08-24  0.84511  16.118629  19.072818\n",
       "2022-08-25  0.84805  16.081800  18.963269"
      ]
     },
     "execution_count": 7,
     "metadata": {},
     "output_type": "execute_result"
    }
   ],
   "source": [
    "#currency pair\n",
    "currency_pair = base + \"/\" + quoted\n",
    "\n",
    "#add column for the currency pair exchange\n",
    "data[currency_pair] = data[quoted_ticker]/ data[base_ticker]\n",
    "\n",
    "data.head()"
   ]
  },
  {
   "cell_type": "markdown",
   "metadata": {},
   "source": [
    "### 5. Convert Base Currency to Quoted Currency"
   ]
  },
  {
   "cell_type": "code",
   "execution_count": 8,
   "metadata": {},
   "outputs": [],
   "source": [
    "#the latest exchange is the last data point in the currency_pair column\n",
    "current_ex = round(data[currency_pair][-1],2)\n",
    "calc_ex = round(current_ex * amount,2)"
   ]
  },
  {
   "cell_type": "code",
   "execution_count": 10,
   "metadata": {},
   "outputs": [
    {
     "data": {
      "image/png": "[encoded data removed]",
      "text/plain": [
       "<Figure size 576x288 with 1 Axes>"
      ]
     },
     "metadata": {},
     "output_type": "display_data"
    },
    {
     "name": "stdout",
     "output_type": "stream",
     "text": [
      "\u001b[1m\n",
      "1.0 GBP is equal to 17.84 ZMW\n",
      "234.0 GBP is equal to 4174.56 ZMW\n"
     ]
    }
   ],
   "source": [
    "#plot historical excahnge between base and quoted\n",
    "plt.figure(figsize=(8,4))\n",
    "plt.plot(data.index, data[currency_pair])\n",
    "plt.title(currency_pair + \" Exchange for past 1 Month\")\n",
    "plt.xlabel(\"date\")\n",
    "plt.ylabel(currency_pair)\n",
    "plt.rcParams['font.size'] = 8\n",
    "plt.show()\n",
    "\n",
    "#print out the calculated conversion\n",
    "print('\\033[1m') #set the printout in bold\n",
    "print(\"1.0 \" + base + \" is equal to \" + str(current_ex) + \" \" + quoted)\n",
    "\n",
    "print(str(amount) + \" \" + base + \" is equal to \" + str(calc_ex) + \" \" + quoted)"
   ]
  },
  {
   "cell_type": "code",
   "execution_count": null,
   "metadata": {},
   "outputs": [],
   "source": []
  }
 ],
 "metadata": {
  "kernelspec": {
   "display_name": "Python 3",
   "language": "python",
   "name": "python3"
  },
  "language_info": {
   "codemirror_mode": {
    "name": "ipython",
    "version": 3
   },
   "file_extension": ".py",
   "mimetype": "text/x-python",
   "name": "python",
   "nbconvert_exporter": "python",
   "pygments_lexer": "ipython3",
   "version": "3.8.5"
  }
 },
 "nbformat": 4,
 "nbformat_minor": 5
}
